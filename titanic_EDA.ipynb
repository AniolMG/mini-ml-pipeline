{
 "cells": [
  {
   "cell_type": "markdown",
   "id": "8e3350e7",
   "metadata": {},
   "source": [
    "Author: Aniol Molero Grau"
   ]
  },
  {
   "cell_type": "code",
   "execution_count": 1,
   "id": "9c644198",
   "metadata": {},
   "outputs": [],
   "source": [
    "import pandas as pd\n",
    "import seaborn as sns\n",
    "import matplotlib.pyplot as plt\n",
    "import numpy as np"
   ]
  },
  {
   "cell_type": "markdown",
   "id": "d2359c7c",
   "metadata": {},
   "source": [
    "---"
   ]
  },
  {
   "cell_type": "code",
   "execution_count": 2,
   "id": "01e1d35a",
   "metadata": {},
   "outputs": [
    {
     "data": {
      "text/html": [
       "<div>\n",
       "<style scoped>\n",
       "    .dataframe tbody tr th:only-of-type {\n",
       "        vertical-align: middle;\n",
       "    }\n",
       "\n",
       "    .dataframe tbody tr th {\n",
       "        vertical-align: top;\n",
       "    }\n",
       "\n",
       "    .dataframe thead th {\n",
       "        text-align: right;\n",
       "    }\n",
       "</style>\n",
       "<table border=\"1\" class=\"dataframe\">\n",
       "  <thead>\n",
       "    <tr style=\"text-align: right;\">\n",
       "      <th></th>\n",
       "      <th>PassengerId</th>\n",
       "      <th>Survived</th>\n",
       "      <th>Pclass</th>\n",
       "      <th>Name</th>\n",
       "      <th>Sex</th>\n",
       "      <th>Age</th>\n",
       "      <th>SibSp</th>\n",
       "      <th>Parch</th>\n",
       "      <th>Ticket</th>\n",
       "      <th>Fare</th>\n",
       "      <th>Cabin</th>\n",
       "      <th>Embarked</th>\n",
       "    </tr>\n",
       "  </thead>\n",
       "  <tbody>\n",
       "    <tr>\n",
       "      <th>0</th>\n",
       "      <td>1</td>\n",
       "      <td>0</td>\n",
       "      <td>3</td>\n",
       "      <td>Braund, Mr. Owen Harris</td>\n",
       "      <td>male</td>\n",
       "      <td>22.0</td>\n",
       "      <td>1</td>\n",
       "      <td>0</td>\n",
       "      <td>A/5 21171</td>\n",
       "      <td>7.2500</td>\n",
       "      <td>NaN</td>\n",
       "      <td>S</td>\n",
       "    </tr>\n",
       "    <tr>\n",
       "      <th>1</th>\n",
       "      <td>2</td>\n",
       "      <td>1</td>\n",
       "      <td>1</td>\n",
       "      <td>Cumings, Mrs. John Bradley (Florence Briggs Th...</td>\n",
       "      <td>female</td>\n",
       "      <td>38.0</td>\n",
       "      <td>1</td>\n",
       "      <td>0</td>\n",
       "      <td>PC 17599</td>\n",
       "      <td>71.2833</td>\n",
       "      <td>C85</td>\n",
       "      <td>C</td>\n",
       "    </tr>\n",
       "    <tr>\n",
       "      <th>2</th>\n",
       "      <td>3</td>\n",
       "      <td>1</td>\n",
       "      <td>3</td>\n",
       "      <td>Heikkinen, Miss. Laina</td>\n",
       "      <td>female</td>\n",
       "      <td>26.0</td>\n",
       "      <td>0</td>\n",
       "      <td>0</td>\n",
       "      <td>STON/O2. 3101282</td>\n",
       "      <td>7.9250</td>\n",
       "      <td>NaN</td>\n",
       "      <td>S</td>\n",
       "    </tr>\n",
       "    <tr>\n",
       "      <th>3</th>\n",
       "      <td>4</td>\n",
       "      <td>1</td>\n",
       "      <td>1</td>\n",
       "      <td>Futrelle, Mrs. Jacques Heath (Lily May Peel)</td>\n",
       "      <td>female</td>\n",
       "      <td>35.0</td>\n",
       "      <td>1</td>\n",
       "      <td>0</td>\n",
       "      <td>113803</td>\n",
       "      <td>53.1000</td>\n",
       "      <td>C123</td>\n",
       "      <td>S</td>\n",
       "    </tr>\n",
       "    <tr>\n",
       "      <th>4</th>\n",
       "      <td>5</td>\n",
       "      <td>0</td>\n",
       "      <td>3</td>\n",
       "      <td>Allen, Mr. William Henry</td>\n",
       "      <td>male</td>\n",
       "      <td>35.0</td>\n",
       "      <td>0</td>\n",
       "      <td>0</td>\n",
       "      <td>373450</td>\n",
       "      <td>8.0500</td>\n",
       "      <td>NaN</td>\n",
       "      <td>S</td>\n",
       "    </tr>\n",
       "  </tbody>\n",
       "</table>\n",
       "</div>"
      ],
      "text/plain": [
       "   PassengerId  Survived  Pclass  \\\n",
       "0            1         0       3   \n",
       "1            2         1       1   \n",
       "2            3         1       3   \n",
       "3            4         1       1   \n",
       "4            5         0       3   \n",
       "\n",
       "                                                Name     Sex   Age  SibSp  \\\n",
       "0                            Braund, Mr. Owen Harris    male  22.0      1   \n",
       "1  Cumings, Mrs. John Bradley (Florence Briggs Th...  female  38.0      1   \n",
       "2                             Heikkinen, Miss. Laina  female  26.0      0   \n",
       "3       Futrelle, Mrs. Jacques Heath (Lily May Peel)  female  35.0      1   \n",
       "4                           Allen, Mr. William Henry    male  35.0      0   \n",
       "\n",
       "   Parch            Ticket     Fare Cabin Embarked  \n",
       "0      0         A/5 21171   7.2500   NaN        S  \n",
       "1      0          PC 17599  71.2833   C85        C  \n",
       "2      0  STON/O2. 3101282   7.9250   NaN        S  \n",
       "3      0            113803  53.1000  C123        S  \n",
       "4      0            373450   8.0500   NaN        S  "
      ]
     },
     "execution_count": 2,
     "metadata": {},
     "output_type": "execute_result"
    }
   ],
   "source": [
    "train_df = pd.read_csv(\"data/titanic_train.csv\")\n",
    "train_df.head()"
   ]
  },
  {
   "cell_type": "code",
   "execution_count": 3,
   "id": "80977d2e",
   "metadata": {},
   "outputs": [
    {
     "name": "stdout",
     "output_type": "stream",
     "text": [
      "Missing values per column:\n",
      "PassengerId      0\n",
      "Survived         0\n",
      "Pclass           0\n",
      "Name             0\n",
      "Sex              0\n",
      "Age            177\n",
      "SibSp            0\n",
      "Parch            0\n",
      "Ticket           0\n",
      "Fare             0\n",
      "Cabin          687\n",
      "Embarked         2\n",
      "dtype: int64\n"
     ]
    }
   ],
   "source": [
    "# Count NA for each column\n",
    "print(\"Missing values per column:\")\n",
    "print(train_df.isna().sum())"
   ]
  },
  {
   "cell_type": "code",
   "execution_count": 4,
   "id": "3196f1b9",
   "metadata": {},
   "outputs": [
    {
     "data": {
      "text/html": [
       "<div>\n",
       "<style scoped>\n",
       "    .dataframe tbody tr th:only-of-type {\n",
       "        vertical-align: middle;\n",
       "    }\n",
       "\n",
       "    .dataframe tbody tr th {\n",
       "        vertical-align: top;\n",
       "    }\n",
       "\n",
       "    .dataframe thead th {\n",
       "        text-align: right;\n",
       "    }\n",
       "</style>\n",
       "<table border=\"1\" class=\"dataframe\">\n",
       "  <thead>\n",
       "    <tr style=\"text-align: right;\">\n",
       "      <th></th>\n",
       "      <th>count</th>\n",
       "      <th>percentage</th>\n",
       "    </tr>\n",
       "    <tr>\n",
       "      <th>Survived</th>\n",
       "      <th></th>\n",
       "      <th></th>\n",
       "    </tr>\n",
       "  </thead>\n",
       "  <tbody>\n",
       "    <tr>\n",
       "      <th>0</th>\n",
       "      <td>549</td>\n",
       "      <td>61.62</td>\n",
       "    </tr>\n",
       "    <tr>\n",
       "      <th>1</th>\n",
       "      <td>342</td>\n",
       "      <td>38.38</td>\n",
       "    </tr>\n",
       "  </tbody>\n",
       "</table>\n",
       "</div>"
      ],
      "text/plain": [
       "          count  percentage\n",
       "Survived                   \n",
       "0           549       61.62\n",
       "1           342       38.38"
      ]
     },
     "execution_count": 4,
     "metadata": {},
     "output_type": "execute_result"
    }
   ],
   "source": [
    "counts = train_df[\"Survived\"].value_counts()\n",
    "percent = train_df[\"Survived\"].value_counts(normalize=True).mul(100).round(2)\n",
    "pd.DataFrame({\"count\": counts, \"percentage\": percent})\n"
   ]
  },
  {
   "cell_type": "code",
   "execution_count": 5,
   "id": "0408c105",
   "metadata": {},
   "outputs": [
    {
     "data": {
      "text/html": [
       "<div>\n",
       "<style scoped>\n",
       "    .dataframe tbody tr th:only-of-type {\n",
       "        vertical-align: middle;\n",
       "    }\n",
       "\n",
       "    .dataframe tbody tr th {\n",
       "        vertical-align: top;\n",
       "    }\n",
       "\n",
       "    .dataframe thead th {\n",
       "        text-align: right;\n",
       "    }\n",
       "</style>\n",
       "<table border=\"1\" class=\"dataframe\">\n",
       "  <thead>\n",
       "    <tr style=\"text-align: right;\">\n",
       "      <th></th>\n",
       "      <th>count</th>\n",
       "      <th>percentage</th>\n",
       "    </tr>\n",
       "    <tr>\n",
       "      <th>Pclass</th>\n",
       "      <th></th>\n",
       "      <th></th>\n",
       "    </tr>\n",
       "  </thead>\n",
       "  <tbody>\n",
       "    <tr>\n",
       "      <th>3</th>\n",
       "      <td>491</td>\n",
       "      <td>55.11</td>\n",
       "    </tr>\n",
       "    <tr>\n",
       "      <th>1</th>\n",
       "      <td>216</td>\n",
       "      <td>24.24</td>\n",
       "    </tr>\n",
       "    <tr>\n",
       "      <th>2</th>\n",
       "      <td>184</td>\n",
       "      <td>20.65</td>\n",
       "    </tr>\n",
       "  </tbody>\n",
       "</table>\n",
       "</div>"
      ],
      "text/plain": [
       "        count  percentage\n",
       "Pclass                   \n",
       "3         491       55.11\n",
       "1         216       24.24\n",
       "2         184       20.65"
      ]
     },
     "metadata": {},
     "output_type": "display_data"
    }
   ],
   "source": [
    "pclass_counts = train_df['Pclass'].value_counts()\n",
    "pclass_percent = train_df['Pclass'].value_counts(normalize=True).mul(100).round(2)\n",
    "display(pd.DataFrame({\"count\": pclass_counts, \"percentage\": pclass_percent}))"
   ]
  },
  {
   "cell_type": "markdown",
   "id": "b4301419",
   "metadata": {},
   "source": [
    "Half the passengers were in 3rd class."
   ]
  },
  {
   "cell_type": "code",
   "execution_count": 6,
   "id": "6def4307",
   "metadata": {},
   "outputs": [
    {
     "name": "stdout",
     "output_type": "stream",
     "text": [
      "\n",
      "Survival rates by Pclass (%):\n"
     ]
    },
    {
     "data": {
      "text/html": [
       "<div>\n",
       "<style scoped>\n",
       "    .dataframe tbody tr th:only-of-type {\n",
       "        vertical-align: middle;\n",
       "    }\n",
       "\n",
       "    .dataframe tbody tr th {\n",
       "        vertical-align: top;\n",
       "    }\n",
       "\n",
       "    .dataframe thead th {\n",
       "        text-align: right;\n",
       "    }\n",
       "</style>\n",
       "<table border=\"1\" class=\"dataframe\">\n",
       "  <thead>\n",
       "    <tr style=\"text-align: right;\">\n",
       "      <th>Survived</th>\n",
       "      <th>0</th>\n",
       "      <th>1</th>\n",
       "    </tr>\n",
       "    <tr>\n",
       "      <th>Pclass</th>\n",
       "      <th></th>\n",
       "      <th></th>\n",
       "    </tr>\n",
       "  </thead>\n",
       "  <tbody>\n",
       "    <tr>\n",
       "      <th>1</th>\n",
       "      <td>37.04</td>\n",
       "      <td>62.96</td>\n",
       "    </tr>\n",
       "    <tr>\n",
       "      <th>2</th>\n",
       "      <td>52.72</td>\n",
       "      <td>47.28</td>\n",
       "    </tr>\n",
       "    <tr>\n",
       "      <th>3</th>\n",
       "      <td>75.76</td>\n",
       "      <td>24.24</td>\n",
       "    </tr>\n",
       "  </tbody>\n",
       "</table>\n",
       "</div>"
      ],
      "text/plain": [
       "Survived      0      1\n",
       "Pclass                \n",
       "1         37.04  62.96\n",
       "2         52.72  47.28\n",
       "3         75.76  24.24"
      ]
     },
     "metadata": {},
     "output_type": "display_data"
    }
   ],
   "source": [
    "survival_by_class = train_df.groupby('Pclass')['Survived'].value_counts(normalize=True).mul(100).round(2)\n",
    "print(\"\\nSurvival rates by Pclass (%):\")\n",
    "display(survival_by_class.unstack())"
   ]
  },
  {
   "cell_type": "markdown",
   "id": "0ae81df1",
   "metadata": {},
   "source": [
    "As expected, the better the class, the better the survival rate"
   ]
  },
  {
   "cell_type": "code",
   "execution_count": 7,
   "id": "2b36e919",
   "metadata": {},
   "outputs": [
    {
     "name": "stdout",
     "output_type": "stream",
     "text": [
      "\n",
      "Survival rates by Sex (%):\n"
     ]
    },
    {
     "data": {
      "text/html": [
       "<div>\n",
       "<style scoped>\n",
       "    .dataframe tbody tr th:only-of-type {\n",
       "        vertical-align: middle;\n",
       "    }\n",
       "\n",
       "    .dataframe tbody tr th {\n",
       "        vertical-align: top;\n",
       "    }\n",
       "\n",
       "    .dataframe thead th {\n",
       "        text-align: right;\n",
       "    }\n",
       "</style>\n",
       "<table border=\"1\" class=\"dataframe\">\n",
       "  <thead>\n",
       "    <tr style=\"text-align: right;\">\n",
       "      <th>Survived</th>\n",
       "      <th>0</th>\n",
       "      <th>1</th>\n",
       "    </tr>\n",
       "    <tr>\n",
       "      <th>Sex</th>\n",
       "      <th></th>\n",
       "      <th></th>\n",
       "    </tr>\n",
       "  </thead>\n",
       "  <tbody>\n",
       "    <tr>\n",
       "      <th>female</th>\n",
       "      <td>25.80</td>\n",
       "      <td>74.20</td>\n",
       "    </tr>\n",
       "    <tr>\n",
       "      <th>male</th>\n",
       "      <td>81.11</td>\n",
       "      <td>18.89</td>\n",
       "    </tr>\n",
       "  </tbody>\n",
       "</table>\n",
       "</div>"
      ],
      "text/plain": [
       "Survived      0      1\n",
       "Sex                   \n",
       "female    25.80  74.20\n",
       "male      81.11  18.89"
      ]
     },
     "metadata": {},
     "output_type": "display_data"
    }
   ],
   "source": [
    "survival_by_sex = train_df.groupby('Sex')['Survived'].value_counts(normalize=True).mul(100).round(2)\n",
    "print(\"\\nSurvival rates by Sex (%):\")\n",
    "display(survival_by_sex.unstack())"
   ]
  },
  {
   "cell_type": "markdown",
   "id": "8bb3bcd8",
   "metadata": {},
   "source": [
    "On average, men were much less likely to survive."
   ]
  },
  {
   "cell_type": "markdown",
   "id": "9a91c3cc",
   "metadata": {},
   "source": [
    "Let's add age to the equation. I'll set 13 as an age threshold, since it seems to be the point where there are almost no differences due to sex."
   ]
  },
  {
   "cell_type": "code",
   "execution_count": 8,
   "id": "14cbeba8",
   "metadata": {},
   "outputs": [
    {
     "name": "stdout",
     "output_type": "stream",
     "text": [
      "\n",
      "Survival rates by Sex and AgeGroup using threshold 13 (%):\n"
     ]
    },
    {
     "data": {
      "text/html": [
       "<div>\n",
       "<style scoped>\n",
       "    .dataframe tbody tr th:only-of-type {\n",
       "        vertical-align: middle;\n",
       "    }\n",
       "\n",
       "    .dataframe tbody tr th {\n",
       "        vertical-align: top;\n",
       "    }\n",
       "\n",
       "    .dataframe thead th {\n",
       "        text-align: right;\n",
       "    }\n",
       "</style>\n",
       "<table border=\"1\" class=\"dataframe\">\n",
       "  <thead>\n",
       "    <tr style=\"text-align: right;\">\n",
       "      <th></th>\n",
       "      <th>Survived</th>\n",
       "      <th>0</th>\n",
       "      <th>1</th>\n",
       "    </tr>\n",
       "    <tr>\n",
       "      <th>Sex</th>\n",
       "      <th>AgeGroup</th>\n",
       "      <th></th>\n",
       "      <th></th>\n",
       "    </tr>\n",
       "  </thead>\n",
       "  <tbody>\n",
       "    <tr>\n",
       "      <th rowspan=\"2\" valign=\"top\">female</th>\n",
       "      <th>13+</th>\n",
       "      <td>22.27</td>\n",
       "      <td>77.73</td>\n",
       "    </tr>\n",
       "    <tr>\n",
       "      <th>&lt;13</th>\n",
       "      <td>40.62</td>\n",
       "      <td>59.38</td>\n",
       "    </tr>\n",
       "    <tr>\n",
       "      <th rowspan=\"2\" valign=\"top\">male</th>\n",
       "      <th>13+</th>\n",
       "      <td>82.69</td>\n",
       "      <td>17.31</td>\n",
       "    </tr>\n",
       "    <tr>\n",
       "      <th>&lt;13</th>\n",
       "      <td>43.24</td>\n",
       "      <td>56.76</td>\n",
       "    </tr>\n",
       "  </tbody>\n",
       "</table>\n",
       "</div>"
      ],
      "text/plain": [
       "Survived             0      1\n",
       "Sex    AgeGroup              \n",
       "female 13+       22.27  77.73\n",
       "       <13       40.62  59.38\n",
       "male   13+       82.69  17.31\n",
       "       <13       43.24  56.76"
      ]
     },
     "metadata": {},
     "output_type": "display_data"
    }
   ],
   "source": [
    "train_df_non_missing_age = train_df[train_df['Age'].notna()].copy()\n",
    "\n",
    "\n",
    "# Define age threshold\n",
    "target_age = 13\n",
    "\n",
    "\n",
    "# Create age groups dynamically based on target_age\n",
    "train_df_non_missing_age.loc[:, 'AgeGroup'] = train_df_non_missing_age['Age'].apply(\n",
    "    lambda x: f'<{target_age}' if x < target_age else f'{target_age}+'\n",
    ")\n",
    "\n",
    "\n",
    "# Survival rates by Sex and AgeGroup\n",
    "survival_by_sex_age = train_df_non_missing_age.groupby(['Sex', 'AgeGroup'])['Survived'] \\\n",
    "                              .value_counts(normalize=True).mul(100).round(2)\n",
    "\n",
    "print(f\"\\nSurvival rates by Sex and AgeGroup using threshold {target_age} (%):\")\n",
    "display(survival_by_sex_age.unstack())\n"
   ]
  },
  {
   "cell_type": "code",
   "execution_count": 9,
   "id": "dabc57dd",
   "metadata": {},
   "outputs": [
    {
     "data": {
      "image/png": "[encoded data removed]",
      "text/plain": [
       "<Figure size 600x500 with 1 Axes>"
      ]
     },
     "metadata": {},
     "output_type": "display_data"
    }
   ],
   "source": [
    "# Prepare data: survival rate by Sex\n",
    "survival_sex_df = train_df.groupby('Sex')['Survived'].mean().reset_index()\n",
    "survival_sex_df['SurvivalPercent'] = survival_sex_df['Survived'] * 100\n",
    "\n",
    "# Plot\n",
    "plt.figure(figsize=(6,5))\n",
    "sns.barplot(data=survival_sex_df, x='Sex', y='SurvivalPercent', color='steelblue')\n",
    "plt.title('Survival Rate by Sex')\n",
    "plt.ylabel('Survival (%)')\n",
    "plt.xlabel('Sex')\n",
    "plt.ylim(0, 100)\n",
    "plt.show()"
   ]
  },
  {
   "cell_type": "code",
   "execution_count": 10,
   "id": "83f3ea3e",
   "metadata": {},
   "outputs": [
    {
     "data": {
      "image/png": "[encoded data removed]",
      "text/plain": [
       "<Figure size 600x500 with 1 Axes>"
      ]
     },
     "metadata": {},
     "output_type": "display_data"
    }
   ],
   "source": [
    "# Prepare data: survival rate by AgeGroup\n",
    "survival_age_df = train_df_non_missing_age.groupby('AgeGroup')['Survived'].mean().reset_index()\n",
    "survival_age_df['SurvivalPercent'] = survival_age_df['Survived'] * 100\n",
    "\n",
    "# Plot\n",
    "plt.figure(figsize=(6,5))\n",
    "sns.barplot(data=survival_age_df, x='AgeGroup', y='SurvivalPercent', color='steelblue')\n",
    "plt.title(f'Survival Rate by AgeGroup')\n",
    "plt.ylabel('Survival (%)')\n",
    "plt.xlabel('Age Group')\n",
    "plt.ylim(0, 100)\n",
    "plt.show()\n"
   ]
  },
  {
   "cell_type": "code",
   "execution_count": 11,
   "id": "2a372dc2",
   "metadata": {},
   "outputs": [
    {
     "data": {
      "image/png": "[encoded data removed]",
      "text/plain": [
       "<Figure size 800x500 with 1 Axes>"
      ]
     },
     "metadata": {},
     "output_type": "display_data"
    }
   ],
   "source": [
    "survival_plot_df = train_df_non_missing_age.groupby(['Sex', 'AgeGroup'])['Survived'] \\\n",
    "                           .mean().reset_index()  # mean gives survival fraction 0–1\n",
    "\n",
    "survival_plot_df['SurvivalPercent'] = survival_plot_df['Survived'] * 100\n",
    "\n",
    "# Plot\n",
    "plt.figure(figsize=(8,5))\n",
    "sns.barplot(data=survival_plot_df, x='AgeGroup', y='SurvivalPercent', hue='Sex')\n",
    "plt.title(f'Survival Rate by Sex and AgeGroup (threshold {target_age})')\n",
    "plt.ylabel('Survival (%)')\n",
    "plt.xlabel('Age Group')\n",
    "plt.ylim(0, 100)\n",
    "plt.legend(title='Sex')\n",
    "plt.show()"
   ]
  },
  {
   "cell_type": "code",
   "execution_count": 12,
   "id": "e3e7229e",
   "metadata": {},
   "outputs": [
    {
     "name": "stdout",
     "output_type": "stream",
     "text": [
      "Survival rate for Women (13+): 77.73%\n",
      "Survival rate for Men (13+): 17.31%\n",
      "Survival rate for Kids (<13): 57.97%\n"
     ]
    }
   ],
   "source": [
    "# Women \n",
    "women_adult_surv = train_df[(train_df['Sex'] == 'female') & (train_df['Age'] >= target_age)]['Survived'].mean() * 100\n",
    "\n",
    "# Men \n",
    "men_adult_surv = train_df[(train_df['Sex'] == 'male') & (train_df['Age'] >= target_age)]['Survived'].mean() * 100\n",
    "\n",
    "# Kids < target_age (both sexes)\n",
    "kids_surv = train_df[train_df['Age'] < target_age]['Survived'].mean() * 100\n",
    "\n",
    "# Print\n",
    "print(f\"Survival rate for Women ({target_age}+): {women_adult_surv:.2f}%\")\n",
    "print(f\"Survival rate for Men ({target_age}+): {men_adult_surv:.2f}%\")\n",
    "print(f\"Survival rate for Kids (<{target_age}): {kids_surv:.2f}%\")\n"
   ]
  },
  {
   "cell_type": "markdown",
   "id": "ae1dbbf9",
   "metadata": {},
   "source": [
    "The 'Women and children first' principle is evident. Interestingly, older women had higher survival rates than very young children, which suggests either that women were given priority for lifeboats or that they were, on average, more capable of surviving the disaster than very young children."
   ]
  },
  {
   "cell_type": "code",
   "execution_count": 13,
   "id": "d9ea5f86",
   "metadata": {},
   "outputs": [
    {
     "name": "stdout",
     "output_type": "stream",
     "text": [
      "Sex     AgeGroup\n",
      "female  <13          32\n",
      "        13–17        23\n",
      "        18–29        92\n",
      "        30–49        92\n",
      "        50+          22\n",
      "male    <13          37\n",
      "        13–17        21\n",
      "        18–29       179\n",
      "        30–49       164\n",
      "        50+          52\n",
      "Name: count, dtype: int64\n",
      "Survival rate for female (AgeGroup <13): 59.38%\n",
      "Survival rate for female (AgeGroup 13–17): 82.61%\n",
      "Survival rate for female (AgeGroup 18–29): 72.83%\n",
      "Survival rate for female (AgeGroup 30–49): 78.26%\n",
      "Survival rate for female (AgeGroup 50+): 90.91%\n",
      "Survival rate for male (AgeGroup <13): 56.76%\n",
      "Survival rate for male (AgeGroup 13–17): 9.52%\n",
      "Survival rate for male (AgeGroup 18–29): 15.64%\n",
      "Survival rate for male (AgeGroup 30–49): 21.34%\n",
      "Survival rate for male (AgeGroup 50+): 13.46%\n"
     ]
    }
   ],
   "source": [
    "train_df_non_missing_age = train_df[train_df['Age'].notna()].copy()\n",
    "\n",
    "# Define thresholds\n",
    "thresholds = [13, 18, 30, 50]\n",
    "\n",
    "# Function to assign age group labels as ranges\n",
    "def get_age_group_label(age, thresholds):\n",
    "    if np.isnan(age):\n",
    "        return 'Unknown'\n",
    "    if age < thresholds[0]:\n",
    "        return f'<{thresholds[0]}'\n",
    "    for i in range(1, len(thresholds)):\n",
    "        if thresholds[i-1] <= age < thresholds[i]:\n",
    "            return f'{thresholds[i-1]}–{thresholds[i]-1}'\n",
    "    return f'{thresholds[-1]}+'\n",
    "\n",
    "# Apply age groups\n",
    "train_df_non_missing_age['AgeGroup'] = train_df_non_missing_age['Age'].apply(\n",
    "    lambda x: get_age_group_label(x, thresholds)\n",
    ")\n",
    "\n",
    "# Define custom order for age groups\n",
    "age_order = [f'<{thresholds[0]}'] + [f'{thresholds[i-1]}–{thresholds[i]-1}' for i in range(1, len(thresholds))] + [f'{thresholds[-1]}+']\n",
    "\n",
    "# Make AgeGroup categorical with desired order\n",
    "train_df_non_missing_age['AgeGroup'] = pd.Categorical(\n",
    "    train_df_non_missing_age['AgeGroup'], \n",
    "    categories=age_order, \n",
    "    ordered=True\n",
    ")\n",
    "\n",
    "print(train_df_non_missing_age[['Sex', 'AgeGroup']].value_counts().sort_index())\n",
    "\n",
    "# Compute survival rates\n",
    "survival_summary = train_df_non_missing_age.groupby(['Sex', 'AgeGroup'], observed=False)['Survived'] \\\n",
    "                                           .mean().mul(100).round(2).reset_index()\n",
    "\n",
    "# Sort by Sex and AgeGroup\n",
    "survival_summary = survival_summary.sort_values(by=['Sex', 'AgeGroup'])\n",
    "\n",
    "# Print nicely\n",
    "for _, row in survival_summary.iterrows():\n",
    "    print(f\"Survival rate for {row['Sex']} (AgeGroup {row['AgeGroup']}): {row['Survived']}%\")\n"
   ]
  },
  {
   "cell_type": "markdown",
   "id": "6da7dbcd",
   "metadata": {},
   "source": [
    "A bit more insight.\n",
    "\n",
    "Survival is highest for older women (50+), even higher than younger teens.\n",
    "\n",
    "Male survival increases slightly from teens to middle-aged adults (13–49), then drops again in 50+\n",
    "\n",
    "Survival does not steadily decrease or increase with age. Evidently non-linear relationships."
   ]
  },
  {
   "cell_type": "code",
   "execution_count": 14,
   "id": "a99291f3",
   "metadata": {},
   "outputs": [
    {
     "data": {
      "image/png": "[encoded data removed]",
      "text/plain": [
       "<Figure size 1291.88x500 with 3 Axes>"
      ]
     },
     "metadata": {},
     "output_type": "display_data"
    }
   ],
   "source": [
    "import seaborn as sns\n",
    "import matplotlib.pyplot as plt\n",
    "\n",
    "# Set a style with grid\n",
    "sns.set_style(\"whitegrid\")  # adds grid to all plots\n",
    "\n",
    "target_age = 13\n",
    "\n",
    "# Ensure AgeGroup is string\n",
    "train_df_non_missing_age['AgeGroup'] = train_df_non_missing_age['AgeGroup'].astype(str)\n",
    "\n",
    "# Assign age groups dynamically\n",
    "train_df_non_missing_age['AgeGroup'] = train_df_non_missing_age['Age'].apply(\n",
    "    lambda x: f'<{target_age}' if x < target_age else f'{target_age}+'\n",
    ")\n",
    "\n",
    "# Compute survival rates by Sex, AgeGroup, and Pclass\n",
    "survival_plot_df = train_df_non_missing_age.groupby(['Pclass', 'Sex', 'AgeGroup'])['Survived'] \\\n",
    "                           .mean().reset_index()\n",
    "survival_plot_df['SurvivalPercent'] = survival_plot_df['Survived'] * 100\n",
    "\n",
    "# Plot using FacetGrid\n",
    "g = sns.catplot(\n",
    "    data=survival_plot_df,\n",
    "    x='AgeGroup',\n",
    "    y='SurvivalPercent',\n",
    "    hue='Sex',\n",
    "    col='Pclass',\n",
    "    kind='bar',\n",
    "    height=5,\n",
    "    aspect=0.8\n",
    ")\n",
    "\n",
    "g.set_titles(\"Pclass {col_name}\")\n",
    "g.set_axis_labels(\"Age Group\", \"Survival (%)\")\n",
    "g.set(ylim=(0, 100))\n",
    "g._legend.set_title('Sex')\n",
    "\n",
    "plt.show()\n"
   ]
  },
  {
   "cell_type": "code",
   "execution_count": 15,
   "id": "73eec6c2",
   "metadata": {},
   "outputs": [
    {
     "name": "stdout",
     "output_type": "stream",
     "text": [
      "\n",
      "Pclass 1:\n",
      "  Survival rate for female (AgeGroup <13): 0.00% (0/1)\n",
      "  Survival rate for female (AgeGroup 13+): 97.62% (82/84)\n",
      "  Survival rate for male (AgeGroup <13): 100.00% (3/3)\n",
      "  Survival rate for male (AgeGroup 13+): 37.76% (37/98)\n",
      "\n",
      "Pclass 2:\n",
      "  Survival rate for female (AgeGroup <13): 100.00% (8/8)\n",
      "  Survival rate for female (AgeGroup 13+): 90.91% (60/66)\n",
      "  Survival rate for male (AgeGroup <13): 100.00% (9/9)\n",
      "  Survival rate for male (AgeGroup 13+): 6.67% (6/90)\n",
      "\n",
      "Pclass 3:\n",
      "  Survival rate for female (AgeGroup <13): 47.83% (11/23)\n",
      "  Survival rate for female (AgeGroup 13+): 45.57% (36/79)\n",
      "  Survival rate for male (AgeGroup <13): 36.00% (9/25)\n",
      "  Survival rate for male (AgeGroup 13+): 12.72% (29/228)\n"
     ]
    }
   ],
   "source": [
    "target_age = 13\n",
    "\n",
    "# Create AgeGroup dynamically\n",
    "train_df_non_missing_age['AgeGroup'] = train_df_non_missing_age['Age'].apply(\n",
    "    lambda x: f'<{target_age}' if x < target_age else f'{target_age}+'\n",
    ")\n",
    "\n",
    "# Define the passenger classes\n",
    "classes = sorted(train_df_non_missing_age['Pclass'].unique())\n",
    "\n",
    "for pclass in classes:\n",
    "    print(f\"\\nPclass {pclass}:\")\n",
    "    \n",
    "    # Subset for this class\n",
    "    df_class = train_df_non_missing_age[train_df_non_missing_age['Pclass'] == pclass]\n",
    "    \n",
    "    # Survival rates with sample size\n",
    "    for sex in ['female', 'male']:\n",
    "        for age_group in [f'<{target_age}', f'{target_age}+']:\n",
    "            subset = df_class[(df_class['Sex'] == sex) & (df_class['AgeGroup'] == age_group)]\n",
    "            n = len(subset)\n",
    "            if n == 0:\n",
    "                print(f\"  Survival rate for {sex} (AgeGroup {age_group}): No data\")\n",
    "            else:\n",
    "                surv_pct = subset['Survived'].mean() * 100\n",
    "                survived_count = subset['Survived'].sum()\n",
    "                print(f\"  Survival rate for {sex} (AgeGroup {age_group}): {surv_pct:.2f}% ({int(survived_count)}/{n})\")\n"
   ]
  },
  {
   "cell_type": "code",
   "execution_count": 16,
   "id": "2d08fa9f",
   "metadata": {},
   "outputs": [
    {
     "data": {
      "text/html": [
       "<div>\n",
       "<style scoped>\n",
       "    .dataframe tbody tr th:only-of-type {\n",
       "        vertical-align: middle;\n",
       "    }\n",
       "\n",
       "    .dataframe tbody tr th {\n",
       "        vertical-align: top;\n",
       "    }\n",
       "\n",
       "    .dataframe thead th {\n",
       "        text-align: right;\n",
       "    }\n",
       "</style>\n",
       "<table border=\"1\" class=\"dataframe\">\n",
       "  <thead>\n",
       "    <tr style=\"text-align: right;\">\n",
       "      <th></th>\n",
       "      <th>Name</th>\n",
       "      <th>Age</th>\n",
       "      <th>Sex</th>\n",
       "      <th>Pclass</th>\n",
       "      <th>SibSp</th>\n",
       "      <th>Parch</th>\n",
       "      <th>Survived</th>\n",
       "    </tr>\n",
       "  </thead>\n",
       "  <tbody>\n",
       "    <tr>\n",
       "      <th>297</th>\n",
       "      <td>Allison, Miss. Helen Loraine</td>\n",
       "      <td>2.0</td>\n",
       "      <td>female</td>\n",
       "      <td>1</td>\n",
       "      <td>1</td>\n",
       "      <td>2</td>\n",
       "      <td>0</td>\n",
       "    </tr>\n",
       "  </tbody>\n",
       "</table>\n",
       "</div>"
      ],
      "text/plain": [
       "                             Name  Age     Sex  Pclass  SibSp  Parch  Survived\n",
       "297  Allison, Miss. Helen Loraine  2.0  female       1      1      2         0"
      ]
     },
     "execution_count": 16,
     "metadata": {},
     "output_type": "execute_result"
    }
   ],
   "source": [
    "# Filter for the girl in 1st class who died\n",
    "girl_1st_class_died = train_df_non_missing_age[\n",
    "    (train_df_non_missing_age['Sex'] == 'female') &\n",
    "    (train_df_non_missing_age['Pclass'] == 1) &\n",
    "    (train_df_non_missing_age['Age'] < 13)\n",
    "]\n",
    "\n",
    "# Display her age\n",
    "girl_1st_class_died[['Name', 'Age', 'Sex', 'Pclass', 'SibSp', 'Parch', 'Survived']]\n"
   ]
  },
  {
   "cell_type": "code",
   "execution_count": 17,
   "id": "0a38cb8e",
   "metadata": {},
   "outputs": [
    {
     "data": {
      "text/html": [
       "<div>\n",
       "<style scoped>\n",
       "    .dataframe tbody tr th:only-of-type {\n",
       "        vertical-align: middle;\n",
       "    }\n",
       "\n",
       "    .dataframe tbody tr th {\n",
       "        vertical-align: top;\n",
       "    }\n",
       "\n",
       "    .dataframe thead th {\n",
       "        text-align: right;\n",
       "    }\n",
       "</style>\n",
       "<table border=\"1\" class=\"dataframe\">\n",
       "  <thead>\n",
       "    <tr style=\"text-align: right;\">\n",
       "      <th></th>\n",
       "      <th>Name</th>\n",
       "      <th>Age</th>\n",
       "      <th>Sex</th>\n",
       "      <th>Pclass</th>\n",
       "      <th>SibSp</th>\n",
       "      <th>Parch</th>\n",
       "      <th>Survived</th>\n",
       "    </tr>\n",
       "  </thead>\n",
       "  <tbody>\n",
       "    <tr>\n",
       "      <th>297</th>\n",
       "      <td>Allison, Miss. Helen Loraine</td>\n",
       "      <td>2.00</td>\n",
       "      <td>female</td>\n",
       "      <td>1</td>\n",
       "      <td>1</td>\n",
       "      <td>2</td>\n",
       "      <td>0</td>\n",
       "    </tr>\n",
       "    <tr>\n",
       "      <th>305</th>\n",
       "      <td>Allison, Master. Hudson Trevor</td>\n",
       "      <td>0.92</td>\n",
       "      <td>male</td>\n",
       "      <td>1</td>\n",
       "      <td>1</td>\n",
       "      <td>2</td>\n",
       "      <td>1</td>\n",
       "    </tr>\n",
       "    <tr>\n",
       "      <th>498</th>\n",
       "      <td>Allison, Mrs. Hudson J C (Bessie Waldo Daniels)</td>\n",
       "      <td>25.00</td>\n",
       "      <td>female</td>\n",
       "      <td>1</td>\n",
       "      <td>1</td>\n",
       "      <td>2</td>\n",
       "      <td>0</td>\n",
       "    </tr>\n",
       "  </tbody>\n",
       "</table>\n",
       "</div>"
      ],
      "text/plain": [
       "                                                Name    Age     Sex  Pclass  \\\n",
       "297                     Allison, Miss. Helen Loraine   2.00  female       1   \n",
       "305                   Allison, Master. Hudson Trevor   0.92    male       1   \n",
       "498  Allison, Mrs. Hudson J C (Bessie Waldo Daniels)  25.00  female       1   \n",
       "\n",
       "     SibSp  Parch  Survived  \n",
       "297      1      2         0  \n",
       "305      1      2         1  \n",
       "498      1      2         0  "
      ]
     },
     "execution_count": 17,
     "metadata": {},
     "output_type": "execute_result"
    }
   ],
   "source": [
    "# Search all 1st class passengers with surname 'Allison'\n",
    "all_allison_1st_class = train_df[\n",
    "    (train_df['Pclass'] == 1) &\n",
    "    ((train_df['Name'].str.contains('Allison')) | (train_df['Name'].str.contains('Hudson')))\n",
    "]\n",
    "\n",
    "all_allison_1st_class[['Name', 'Age', 'Sex', 'Pclass', 'SibSp', 'Parch', 'Survived']]\n"
   ]
  },
  {
   "cell_type": "markdown",
   "id": "92f4cfac",
   "metadata": {},
   "source": [
    "According to the SibSp and Parch variables, the Allison family should have included the father as well, but he does not appear in the dataset. Although the family traveled in 1st class, only the infant son, Trevor, survived. This is unusual, given that all other children in 1st and 2nd class survived, and women in 1st class had a 97% survival rate."
   ]
  },
  {
   "cell_type": "code",
   "execution_count": 21,
   "id": "7d452ae8",
   "metadata": {},
   "outputs": [
    {
     "data": {
      "text/html": [
       "<div>\n",
       "<style scoped>\n",
       "    .dataframe tbody tr th:only-of-type {\n",
       "        vertical-align: middle;\n",
       "    }\n",
       "\n",
       "    .dataframe tbody tr th {\n",
       "        vertical-align: top;\n",
       "    }\n",
       "\n",
       "    .dataframe thead th {\n",
       "        text-align: right;\n",
       "    }\n",
       "</style>\n",
       "<table border=\"1\" class=\"dataframe\">\n",
       "  <thead>\n",
       "    <tr style=\"text-align: right;\">\n",
       "      <th></th>\n",
       "      <th>Name</th>\n",
       "      <th>Age</th>\n",
       "      <th>Sex</th>\n",
       "      <th>Pclass</th>\n",
       "      <th>SibSp</th>\n",
       "      <th>Parch</th>\n",
       "    </tr>\n",
       "  </thead>\n",
       "  <tbody>\n",
       "    <tr>\n",
       "      <th>306</th>\n",
       "      <td>Allison, Mr. Hudson Joshua Creighton</td>\n",
       "      <td>30.0</td>\n",
       "      <td>male</td>\n",
       "      <td>1</td>\n",
       "      <td>1</td>\n",
       "      <td>2</td>\n",
       "    </tr>\n",
       "  </tbody>\n",
       "</table>\n",
       "</div>"
      ],
      "text/plain": [
       "                                     Name   Age   Sex  Pclass  SibSp  Parch\n",
       "306  Allison, Mr. Hudson Joshua Creighton  30.0  male       1      1      2"
      ]
     },
     "execution_count": 21,
     "metadata": {},
     "output_type": "execute_result"
    }
   ],
   "source": [
    "test_df = pd.read_csv(\"data/titanic_test.csv\")\n",
    "all_allison_1st_class = test_df[\n",
    "    (test_df['Pclass'] == 1) &\n",
    "    ((test_df['Name'].str.contains('Allison')) | (test_df['Name'].str.contains('Hudson')))\n",
    "]\n",
    "\n",
    "all_allison_1st_class[['Name', 'Age', 'Sex', 'Pclass', 'SibSp', 'Parch']]"
   ]
  },
  {
   "cell_type": "markdown",
   "id": "5cb85b65",
   "metadata": {},
   "source": [
    "The father was in the test segment of the dataset. Since the test dataset has no information on survival outcome, I decided to investigate what really happened, so I looked up some information on the internet: https://en.wikipedia.org/wiki/Allison_family\n",
    "\n",
    "In summary, Alice, a nurse that the Allison family hired, took Trevor with her to a lifeboat. Some stories say that she didn't inform Bessie that she was leaving with Trevor, and that Bessie refused to leave without him. Also according to reports, Bessie and Loraine managed to get safely into a boat and could have \"gotten away in perfect safety\". However, she \"rushed away from the boat\" when told that her husband was in another boat on the other side of the deck, only to find that he wasn't actually there. It would seem that she didn't manage to get in another boat.\n",
    "\n",
    "So, after knowing this, it seems like a series of unfortunate circumstances (given the disaster) had to take place for a baby in first class (and her mother) to perish.\n",
    "This case illustrates how individual survival outcomes could deviate sharply from broader statistical patterns, often due to highly specific circumstances rather than class, age, or gender alone."
   ]
  },
  {
   "cell_type": "markdown",
   "id": "fa1cfffe",
   "metadata": {},
   "source": [
    "---"
   ]
  },
  {
   "cell_type": "markdown",
   "id": "712fe2ed",
   "metadata": {},
   "source": [
    "Except the one girl that travelled in first class, all kids in 1st and 2nd class survived.\n",
    "In third class, the survival rate for kids was much lower.\n",
    "\n",
    "Almost all women in 1st and 2nd class survived (97.62% and 90.91%, respectively).\n",
    "We can see a clear decrease in survival rate for women in 3rd class (45.57%).\n",
    "\n",
    "For men, the survival rate was low across all classes. \n",
    "As expected, men in 1st class had a higher survival rate (37.76%), however, curiously enough, men in 2nd class had a lower surival rate (6.67%) than men in 3rd class (12.72%)\n",
    "\n"
   ]
  },
  {
   "cell_type": "markdown",
   "id": "4e80c1c3",
   "metadata": {},
   "source": [
    "Much more exploratory data analysis could be performed, but this is enough for now."
   ]
  }
 ],
 "metadata": {
  "kernelspec": {
   "display_name": "venv",
   "language": "python",
   "name": "python3"
  },
  "language_info": {
   "codemirror_mode": {
    "name": "ipython",
    "version": 3
   },
   "file_extension": ".py",
   "mimetype": "text/x-python",
   "name": "python",
   "nbconvert_exporter": "python",
   "pygments_lexer": "ipython3",
   "version": "3.11.4"
  }
 },
 "nbformat": 4,
 "nbformat_minor": 5
}
